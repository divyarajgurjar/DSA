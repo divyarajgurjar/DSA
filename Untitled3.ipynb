{
  "cells": [
    {
      "cell_type": "markdown",
      "metadata": {
        "id": "view-in-github",
        "colab_type": "text"
      },
      "source": [
        "<a href=\"https://colab.research.google.com/github/divyarajgurjar/DSA/blob/main/Untitled3.ipynb\" target=\"_parent\"><img src=\"https://colab.research.google.com/assets/colab-badge.svg\" alt=\"Open In Colab\"/></a>"
      ]
    },
    {
      "cell_type": "code",
      "execution_count": null,
      "metadata": {
        "id": "vOOgr_jU6BG4"
      },
      "outputs": [],
      "source": [
        "#Making Node for Linked List\n",
        "class Node:\n",
        "    def __init__(self,value):\n",
        "        self.data = value\n",
        "        self.next = None\n",
        "#Making your Linked List\n",
        "class LinkedList:\n",
        "    def __init__(self):\n",
        "        self.head= None #Variable to keep track of head. Empty Linked List have head as 'None'.\n",
        "        self.n = 0 #Variable to count number of nodes.\n",
        "    # len() Method\n",
        "    def __len__(self):\n",
        "        return self.n\n",
        "    #Insertion of Node before head.\n",
        "    def insert_head(self, value):\n",
        "        new_Node = Node(value)\n",
        "        new_Node.next = self.head\n",
        "        self.head = new_Node\n",
        "        self.n = self.n + 1\n",
        "    #Traversing in Linked List\n",
        "    def traverse(self):\n",
        "        current = self.head\n",
        "        while current!=None:\n",
        "            print(current.data)\n",
        "            current = current.next\n",
        "    #Adding print functionality\n",
        "    def __str__(self):\n",
        "        current = self.head\n",
        "        result = ''\n",
        "        while current!=None:\n",
        "            result = result + str(current.data) + '->'\n",
        "            current = current.next\n",
        "        return result[:-2]\n",
        "    #Adding Insert from tail\n",
        "    def insert_tail(self,value):\n",
        "        new_Array = Node(value)\n",
        "        current = self.head\n",
        "        while current.next is not None:\n",
        "            current = current.next\n",
        "        current.next = new_Array\n",
        "        self.n+=1\n",
        "    #Adding Insert in the middle\n",
        "    def insert_after(self,after):\n",
        "        current = self.head\n",
        "        while current!=None:\n",
        "            print(current)\n",
        "    #Clear\n",
        "    def clear(self):\n",
        "        self.n = 0\n",
        "        self.head = None\n",
        "    #Removing element from head\n",
        "    def remove_head(self):\n",
        "        self.head = self.head.next\n",
        "        self.n-=1\n",
        "    #Removing element from tail\n",
        "    def remove_tail(self):\n",
        "        current = self.head\n",
        "        while current.next.next!=None:\n",
        "            if self.n==0:\n",
        "                return \"Linked List Is Empty\"\n",
        "            current=current.next\n",
        "        current.next= None\n",
        "        self.n-=1\n",
        "    #Removing Element from middle\n",
        "    def remove_after(self,after):\n",
        "        current= self.head\n",
        "        while current.data!=after:\n",
        "            if current.next==None:\n",
        "                return \"Item not in the list\"\n",
        "            current = current.next\n",
        "        current.next = current.next.next\n",
        "        self.n-=1\n",
        "    #Searching by value\n",
        "    def search(self,value):\n",
        "        current= self.head\n",
        "        position = 0\n",
        "        while current.data!=value:\n",
        "            if current.next==None:\n",
        "                return \"Item not in the list\"\n",
        "            current=current.next\n",
        "            position+=1\n",
        "        return position\n",
        "    #Search By Indexing\n",
        "    def __getitem__(self, index):\n",
        "        current = self.head\n",
        "        position = 0\n",
        "        while position!=index:\n",
        "            if current.next==None:\n",
        "                return \"Index - Out Of Range\"\n",
        "            current =current.next\n",
        "            position+=1\n",
        "        return current.data"
      ]
    },
    {
      "cell_type": "code",
      "execution_count": null,
      "metadata": {
        "id": "VMrOeJz7-5TS"
      },
      "outputs": [],
      "source": [
        "#defining linked list\n",
        "LL = LinkedList()"
      ]
    },
    {
      "cell_type": "code",
      "execution_count": null,
      "metadata": {
        "id": "aCpBJOEV_C_Q"
      },
      "outputs": [],
      "source": [
        "#Testing Insert Head Method\n",
        "LL.insert_head(2)\n",
        "LL.insert_head(4)\n",
        "LL.insert_head(6)\n",
        "LL.insert_head(8)"
      ]
    },
    {
      "cell_type": "code",
      "execution_count": null,
      "metadata": {
        "colab": {
          "base_uri": "https://localhost:8080/"
        },
        "id": "l1-kljJ9Azo7",
        "outputId": "3be18c32-eec5-4efe-c570-6be804bda1eb"
      },
      "outputs": [
        {
          "output_type": "execute_result",
          "data": {
            "text/plain": [
              "4"
            ]
          },
          "metadata": {},
          "execution_count": 90
        }
      ],
      "source": [
        "len(LL)"
      ]
    },
    {
      "cell_type": "code",
      "execution_count": null,
      "metadata": {
        "colab": {
          "base_uri": "https://localhost:8080/"
        },
        "id": "rprPa8B_DSa3",
        "outputId": "2cbe9562-79b2-4022-ed0a-7bded1268fcc"
      },
      "outputs": [
        {
          "output_type": "stream",
          "name": "stdout",
          "text": [
            "8\n",
            "6\n",
            "4\n",
            "2\n"
          ]
        }
      ],
      "source": [
        "#Testing Traverse Method\n",
        "LL.traverse()"
      ]
    },
    {
      "cell_type": "code",
      "execution_count": null,
      "metadata": {
        "colab": {
          "base_uri": "https://localhost:8080/"
        },
        "id": "m1-G5_uZZ_1Y",
        "outputId": "ea4eba65-66af-4a0f-885f-671d9b5678d4"
      },
      "outputs": [
        {
          "output_type": "stream",
          "name": "stdout",
          "text": [
            "6->2\n"
          ]
        }
      ],
      "source": [
        "#Testing print functionality\n",
        "print(LL)"
      ]
    },
    {
      "cell_type": "code",
      "execution_count": null,
      "metadata": {
        "id": "GF9NhnugbMOB"
      },
      "outputs": [],
      "source": [
        "#Testing insert_tail\n",
        "LL.insert_tail(90)"
      ]
    },
    {
      "cell_type": "code",
      "source": [
        "LL.remove_head()"
      ],
      "metadata": {
        "id": "HB6P_7MbE_Ak"
      },
      "execution_count": null,
      "outputs": []
    },
    {
      "cell_type": "code",
      "source": [
        "LL.remove_tail()"
      ],
      "metadata": {
        "id": "2V-UTpJEFHyT"
      },
      "execution_count": null,
      "outputs": []
    },
    {
      "cell_type": "code",
      "source": [
        "LL.remove_after(6)"
      ],
      "metadata": {
        "id": "nnF8rE7SGTCj"
      },
      "execution_count": null,
      "outputs": []
    },
    {
      "cell_type": "code",
      "source": [
        "LL.search(6)"
      ],
      "metadata": {
        "colab": {
          "base_uri": "https://localhost:8080/"
        },
        "id": "kt-9N6G6HuGs",
        "outputId": "5deb42f8-42fe-42f5-fefb-7f2fb656d42c"
      },
      "execution_count": null,
      "outputs": [
        {
          "output_type": "execute_result",
          "data": {
            "text/plain": [
              "0"
            ]
          },
          "metadata": {},
          "execution_count": 97
        }
      ]
    },
    {
      "cell_type": "code",
      "source": [
        "LL[1]"
      ],
      "metadata": {
        "colab": {
          "base_uri": "https://localhost:8080/"
        },
        "id": "NBAmnOFzPY6W",
        "outputId": "0c20b323-65bd-4a3a-ad6b-c13b08dc1c84"
      },
      "execution_count": null,
      "outputs": [
        {
          "output_type": "execute_result",
          "data": {
            "text/plain": [
              "2"
            ]
          },
          "metadata": {},
          "execution_count": 98
        }
      ]
    }
  ],
  "metadata": {
    "colab": {
      "provenance": [],
      "authorship_tag": "ABX9TyPUNvqz1dvwebG6UlFT4UJK",
      "include_colab_link": true
    },
    "kernelspec": {
      "display_name": "Python 3",
      "name": "python3"
    },
    "language_info": {
      "name": "python"
    }
  },
  "nbformat": 4,
  "nbformat_minor": 0
}