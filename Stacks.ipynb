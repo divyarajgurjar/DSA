{
  "nbformat": 4,
  "nbformat_minor": 0,
  "metadata": {
    "colab": {
      "provenance": [],
      "authorship_tag": "ABX9TyOB35EuSkAdT/gEZL6sUm4M",
      "include_colab_link": true
    },
    "kernelspec": {
      "name": "python3",
      "display_name": "Python 3"
    },
    "language_info": {
      "name": "python"
    }
  },
  "cells": [
    {
      "cell_type": "markdown",
      "metadata": {
        "id": "view-in-github",
        "colab_type": "text"
      },
      "source": [
        "<a href=\"https://colab.research.google.com/github/divyarajgurjar/DSA/blob/main/Stacks.ipynb\" target=\"_parent\"><img src=\"https://colab.research.google.com/assets/colab-badge.svg\" alt=\"Open In Colab\"/></a>"
      ]
    },
    {
      "cell_type": "code",
      "execution_count": null,
      "metadata": {
        "id": "jMibf8qyLUAc"
      },
      "outputs": [],
      "source": [
        "#Stacks can be made using Arrays and Linked List.\n",
        "class Node:\n",
        "    def __init__(self,value):\n",
        "        self.data = value\n",
        "        self.next = None\n"
      ]
    },
    {
      "cell_type": "code",
      "source": [
        "class Stack:\n",
        "    def __init__(self):\n",
        "        self.top = None\n",
        "    def isEmpty(self):\n",
        "        return self.top == None\n",
        "    def push(self,value):\n",
        "        new_node = Node(value)\n",
        "        new_node.next = self.top\n",
        "        self.top = new_node\n",
        "    def traverse(self):\n",
        "        temp = self.top\n",
        "        while temp!=None:\n",
        "            print(temp.data)\n",
        "            temp = temp.next\n",
        "    def peek(self):\n",
        "        if self.isEmpty():\n",
        "            return \"Stack is Empty\"\n",
        "        return self.top.data\n",
        "    def pop(self):\n",
        "        if self.isEmpty():\n",
        "            return \"Stack is empty.\"\n",
        "        self.top = self.top.next"
      ],
      "metadata": {
        "id": "XkG8kANU8ofj"
      },
      "execution_count": null,
      "outputs": []
    },
    {
      "cell_type": "code",
      "source": [
        "S = Stack()\n",
        "S.isEmpty()"
      ],
      "metadata": {
        "colab": {
          "base_uri": "https://localhost:8080/"
        },
        "id": "4jEZXT2M-Px0",
        "outputId": "82bd5181-d3f7-4a16-ce2d-31fabe8d8dad"
      },
      "execution_count": null,
      "outputs": [
        {
          "output_type": "execute_result",
          "data": {
            "text/plain": [
              "True"
            ]
          },
          "metadata": {},
          "execution_count": 37
        }
      ]
    },
    {
      "cell_type": "code",
      "source": [
        "S.push(10)\n",
        "S.isEmpty()"
      ],
      "metadata": {
        "colab": {
          "base_uri": "https://localhost:8080/"
        },
        "id": "VieqBcPY-fCp",
        "outputId": "afaf4f59-5a76-409e-cc98-79dd6d5ad681"
      },
      "execution_count": null,
      "outputs": [
        {
          "output_type": "execute_result",
          "data": {
            "text/plain": [
              "False"
            ]
          },
          "metadata": {},
          "execution_count": 34
        }
      ]
    },
    {
      "cell_type": "code",
      "source": [
        "S.traverse()"
      ],
      "metadata": {
        "colab": {
          "base_uri": "https://localhost:8080/"
        },
        "id": "Gse9XwUx-j0c",
        "outputId": "88d678a0-a5ec-4f75-9d1d-879c4605aca6"
      },
      "execution_count": null,
      "outputs": [
        {
          "output_type": "stream",
          "name": "stdout",
          "text": [
            "10\n"
          ]
        }
      ]
    },
    {
      "cell_type": "code",
      "source": [
        "S.peek()"
      ],
      "metadata": {
        "colab": {
          "base_uri": "https://localhost:8080/",
          "height": 36
        },
        "id": "b7FiVwS0Ke3U",
        "outputId": "5eb68da9-a110-4571-b1b4-e654fa33a51d"
      },
      "execution_count": null,
      "outputs": [
        {
          "output_type": "execute_result",
          "data": {
            "text/plain": [
              "'Stack is Empty'"
            ],
            "application/vnd.google.colaboratory.intrinsic+json": {
              "type": "string"
            }
          },
          "metadata": {},
          "execution_count": 38
        }
      ]
    },
    {
      "cell_type": "code",
      "source": [
        "S.pop()"
      ],
      "metadata": {
        "id": "5ZvQG9YxK9zn"
      },
      "execution_count": null,
      "outputs": []
    }
  ]
}