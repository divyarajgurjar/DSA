{
  "nbformat": 4,
  "nbformat_minor": 0,
  "metadata": {
    "colab": {
      "provenance": [],
      "authorship_tag": "ABX9TyPi4L4FMmdYmOw8GwQeTQuW",
      "include_colab_link": true
    },
    "kernelspec": {
      "name": "python3",
      "display_name": "Python 3"
    },
    "language_info": {
      "name": "python"
    }
  },
  "cells": [
    {
      "cell_type": "markdown",
      "metadata": {
        "id": "view-in-github",
        "colab_type": "text"
      },
      "source": [
        "<a href=\"https://colab.research.google.com/github/divyarajgurjar/DSA/blob/main/Own_Arrays.ipynb\" target=\"_parent\"><img src=\"https://colab.research.google.com/assets/colab-badge.svg\" alt=\"Open In Colab\"/></a>"
      ]
    },
    {
      "cell_type": "code",
      "execution_count": null,
      "metadata": {
        "id": "f7_5e2kuspEz"
      },
      "outputs": [],
      "source": [
        "import ctypes\n",
        "#i can create"
      ]
    },
    {
      "cell_type": "code",
      "source": [
        "import ctypes\n",
        "class meriArray:\n",
        "  #Initialising Array\n",
        "   def __init__(self):\n",
        "    self.size=1\n",
        "    self.n=0\n",
        "    self.A= self.__makeArray(self.size)\n",
        "\n",
        "    #Making Length Method in Array\n",
        "   def __len__(self):\n",
        "    return self.n\n",
        "\n",
        "   #Making print Function\n",
        "   def __str__(self):\n",
        "    result = ' '\n",
        "    for i in range(self.n):\n",
        "      result= result + str(self.A[i]) + ','\n",
        "    return '[' +result[:-1] + ']'\n",
        "\n",
        "    #Making Array subscriptable - Not Done Yet\n",
        "   def __getitem__(self,index):\n",
        "      if 0<= index < self.n:\n",
        "        return self.A[index]\n",
        "      else:\n",
        "        return \"Index out of range\"\n",
        "\n",
        "   def pop(self):\n",
        "      if self.n==0:\n",
        "        return \"Khali hain mere bhai\"\n",
        "      print(self.A[self.n-1])\n",
        "      self.n = self.n-1\n",
        "   def clear(self):\n",
        "    self.n=0\n",
        "    self.size=1\n",
        "   def find(self,item):\n",
        "    for i in range(self.n):\n",
        "      if self.A[i]==item:\n",
        "        return i\n",
        "    return \"Value nhi hain mere pass\"\n",
        "\n",
        "    #Insert Method Implementation\n",
        "   def insert(self,position,value):\n",
        "      if self.n==self.size:\n",
        "        self.__resize(self.size*2)\n",
        "      for i in range(self.n,position,-1):\n",
        "        self.A[i]=self.A[i-1]\n",
        "      self.A[position]=value\n",
        "      self.n=self.n+1\n",
        "\n",
        "    #Making Append Method in Array\n",
        "   def append(self,item):\n",
        "    #check if size is available or not\n",
        "    if self.n ==self.size:\n",
        "      self.__resize(self.size*2)\n",
        "      #append\n",
        "    self.A[self.n]=item\n",
        "    self.n=self.n+1\n",
        "\n",
        "   def __resize(self,new_capacity):\n",
        "      B = self.__makeArray(new_capacity)\n",
        "      self.size = new_capacity\n",
        "      for i in range(self.n):\n",
        "         B[i] = self.A[i]\n",
        "      self.A = B\n",
        "\n",
        "\n",
        "   #Making Array\n",
        "   def __makeArray(self, capacity):\n",
        "    return (capacity*ctypes.py_object)()"
      ],
      "metadata": {
        "id": "JOn2ro7vtTkH"
      },
      "execution_count": null,
      "outputs": []
    },
    {
      "cell_type": "code",
      "source": [
        "L = meriArray()"
      ],
      "metadata": {
        "id": "fYGRFO8avlwY"
      },
      "execution_count": null,
      "outputs": []
    },
    {
      "cell_type": "code",
      "source": [
        "#Testing Append Method\n",
        "L.append(1)\n",
        "L.append(\"Hello\")\n",
        "L.append(4.55)\n",
        "L.append(45)"
      ],
      "metadata": {
        "id": "F3usTc7I2350"
      },
      "execution_count": null,
      "outputs": []
    },
    {
      "cell_type": "code",
      "source": [
        "L.insert(2,\"Mian Hum Hain\")\n"
      ],
      "metadata": {
        "id": "xM_6w3H5dVBS"
      },
      "execution_count": null,
      "outputs": []
    },
    {
      "cell_type": "code",
      "source": [
        "L.find(1)"
      ],
      "metadata": {
        "colab": {
          "base_uri": "https://localhost:8080/"
        },
        "id": "jYc_BaoVRBT0",
        "outputId": "f30cca69-0101-4d47-8424-593bb2635a5d"
      },
      "execution_count": null,
      "outputs": [
        {
          "output_type": "execute_result",
          "data": {
            "text/plain": [
              "0"
            ]
          },
          "metadata": {},
          "execution_count": 118
        }
      ]
    },
    {
      "cell_type": "code",
      "source": [
        "L.pop()"
      ],
      "metadata": {
        "colab": {
          "base_uri": "https://localhost:8080/"
        },
        "id": "hjncriJfKPW5",
        "outputId": "f1975653-ae08-4c8d-da71-ec5c6ffb4d56"
      },
      "execution_count": null,
      "outputs": [
        {
          "output_type": "stream",
          "name": "stdout",
          "text": [
            "45\n"
          ]
        }
      ]
    },
    {
      "cell_type": "code",
      "source": [
        "L.clear()"
      ],
      "metadata": {
        "id": "tgalM7GwPEF1"
      },
      "execution_count": null,
      "outputs": []
    },
    {
      "cell_type": "code",
      "source": [
        "#Tesing Array Print Method\n",
        "L[0]"
      ],
      "metadata": {
        "colab": {
          "base_uri": "https://localhost:8080/"
        },
        "id": "qWOrftnlAeXJ",
        "outputId": "82365ed5-140b-4967-d365-7fb433795de0"
      },
      "execution_count": null,
      "outputs": [
        {
          "output_type": "execute_result",
          "data": {
            "text/plain": [
              "1"
            ]
          },
          "metadata": {},
          "execution_count": 106
        }
      ]
    },
    {
      "cell_type": "code",
      "source": [
        "#Testing Length Method\n",
        "len(L)"
      ],
      "metadata": {
        "colab": {
          "base_uri": "https://localhost:8080/"
        },
        "id": "kOcOq-R1v9KR",
        "outputId": "de6c2a90-8c16-43c6-be30-7d0dd561df6b"
      },
      "execution_count": null,
      "outputs": [
        {
          "output_type": "execute_result",
          "data": {
            "text/plain": [
              "0"
            ]
          },
          "metadata": {},
          "execution_count": 113
        }
      ]
    },
    {
      "cell_type": "code",
      "source": [
        "print(L)"
      ],
      "metadata": {
        "colab": {
          "base_uri": "https://localhost:8080/"
        },
        "id": "e3MVfxaUwTld",
        "outputId": "ef7b7724-eba5-4213-af26-347e70be54ab"
      },
      "execution_count": null,
      "outputs": [
        {
          "output_type": "stream",
          "name": "stdout",
          "text": [
            "[ 1,Hello,Mian Hum Hain,4.55,45]\n"
          ]
        }
      ]
    }
  ]
}
